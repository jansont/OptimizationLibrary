{
 "cells": [
  {
   "cell_type": "code",
   "execution_count": 21,
   "metadata": {},
   "outputs": [],
   "source": [
    "import numpy as np\n",
    "from algorithms import steepest_descent, conjugate_gradient, secant, Finite_Difference, armijo\n",
    "from cost_functions import V_a, gradV_a, V_b, gradV_b, V_c, gradV_c\n",
    "from numpy.linalg import norm, eig\n",
    "from scipy.optimize import minimize\n",
    "import time\n",
    "from sklearn.metrics import mean_squared_error\n",
    "from decimal import Decimal\n",
    "from algorithms import barrier_fn, penalty_fn\n",
    "from cost_functions import V_a, gradV_a, V_b, gradV_b, V_1, h1_1, h1_2, V_2, h2_1, h2_2, V_3, h1_3, h2_3\n",
    "\n",
    "\n"
   ]
  },
  {
   "cell_type": "code",
   "execution_count": 3,
   "metadata": {},
   "outputs": [
    {
     "name": "stdout",
     "output_type": "stream",
     "text": [
      "0.70713 \t 0.70708 \t 1.58579 \t 0 \t 0.06699800491333008 \t 6\n"
     ]
    }
   ],
   "source": [
    "x0 = np.array([[0.1],[0.7]])\n",
    "\n",
    "ineq_cons = {'type': 'ineq',\n",
    "             'fun' : h1_1}\n",
    "eq_cons = {'type': 'eq',\n",
    "           'fun' : h2_1,}\n",
    "\n",
    "t0 = time.time()\n",
    "res = minimize(V_1, x0, method='SLSQP', constraints=[eq_cons, ineq_cons])\n",
    "t = time.time() - t0\n",
    "\n",
    "\n",
    "xtrue = res.x\n",
    "i = res.nit\n",
    "mins = res.fun\n",
    "\n",
    "rms = mean_squared_error(xtrue, xtrue)\n",
    "\n",
    "print(f'{xtrue[0].item() :.5f} \\t {xtrue[1].item() :.5f} \\t {mins:.5f} \\t {Decimal(rms)} \\t {t} \\t {i}')"
   ]
  },
  {
   "cell_type": "code",
   "execution_count": 21,
   "metadata": {},
   "outputs": [
    {
     "name": "stdout",
     "output_type": "stream",
     "text": [
      "0.70735 \t 0.70736 \t 1.58579 \t 6.31E-8 \t 4.765 \t 5\n"
     ]
    }
   ],
   "source": [
    "x0 = np.array([[0.1],[0.7]])\n",
    "\n",
    "# test penalty function\n",
    "\n",
    "t0 = time.time()\n",
    "x, minimum, x_hist1, V_hist=  penalty_fn(x0,\n",
    "                        V_1,\n",
    "                        gradient_function=None,\n",
    "                        ecp=h2_1,\n",
    "                        icp=[h1_1],\n",
    "                        step_size = 'armijo',\n",
    "                        threshold = 1e-3, \n",
    "                        log = False, \n",
    "                        h = 1e-5, \n",
    "                        max_iter = 1e5, \n",
    "                        fd_method = 'central', \n",
    "                        track_history = True)\n",
    "t = time.time() - t0\n",
    "rms = mean_squared_error(x, xtrue)\n",
    "\n",
    "\n",
    "print(f'{x[0].item() :.5f} \\t {x[1].item() :.5f} \\t {mins:.5f} \\t {Decimal(rms):.2E} \\t {t:.3f} \\t {len(x_hist1)}')\n"
   ]
  },
  {
   "cell_type": "code",
   "execution_count": 3,
   "metadata": {},
   "outputs": [
    {
     "name": "stdout",
     "output_type": "stream",
     "text": [
      "0.70735 \t 0.70736 \t 1.58579 \t 6.31E-8 \t 4.655 \t 5\n"
     ]
    }
   ],
   "source": [
    "x0 = np.array([[0.1],[0.7]])\n",
    "\n",
    "t0 = time.time()\n",
    "x, minimum, x_hist1, V_hist=  penalty_fn(x0,\n",
    "                        V_1,\n",
    "                        gradient_function=None,\n",
    "                        ecp=h2_1,\n",
    "                        icp=[h1_1],\n",
    "                        step_size = 'armijo',\n",
    "                        threshold = 1e-3, \n",
    "                        log = False, \n",
    "                        h = 1e-5, \n",
    "                        max_iter = 1e5, \n",
    "                        fd_method = 'central', \n",
    "                        track_history = True)\n",
    "t = time.time() - t0\n",
    "rms = mean_squared_error(x, xtrue)\n",
    "\n",
    "\n",
    "print(f'{x[0].item() :.5f} \\t {x[1].item() :.5f} \\t {mins:.5f} \\t {Decimal(rms):.2E} \\t {t:.3f} \\t {len(x_hist1)}')\n"
   ]
  },
  {
   "cell_type": "code",
   "execution_count": null,
   "metadata": {},
   "outputs": [],
   "source": [
    "x0 = np.array([[0.1],[0.7]])\n",
    "\n",
    "t0 = time.time()\n",
    "x, minimum, x_hist1, V_hist=  penalty_fn(x0,\n",
    "                        V_1,\n",
    "                        gradient_function=None,\n",
    "                        ecp=h2_1,\n",
    "                        icp=[h1_1],\n",
    "                        step_size = 'armijo',\n",
    "                        threshold = 1e-3, \n",
    "                        log = False, \n",
    "                        h = 1e-5, \n",
    "                        max_iter = 1e5, \n",
    "                        fd_method = 'central', \n",
    "                        track_history = True)\n",
    "t = time.time() - t0\n",
    "rms = mean_squared_error(x, xtrue)\n",
    "\n",
    "\n",
    "print(f'{x[0].item() :.5f} \\t {x[1].item() :.5f} \\t {minimum:.5f} \\t {Decimal(rms):.2E} \\t {t:.3f} \\t {len(x_hist1)}')\n"
   ]
  },
  {
   "cell_type": "code",
   "execution_count": 33,
   "metadata": {},
   "outputs": [
    {
     "name": "stdout",
     "output_type": "stream",
     "text": [
      "0.66667 \t 0.57735 \t -0.38490 \t 0 \t 0.020127296447753906 \t 5\n"
     ]
    }
   ],
   "source": [
    "##### FUNCTION 2\n",
    "x0 = np.array([[0.1],[0.7]])\n",
    "ineq_cons1 = {'type': 'ineq',\n",
    "             'fun' : h1_2}\n",
    "ineq_cons2 = {'type': 'ineq',\n",
    "             'fun' : h2_2,}\n",
    "\n",
    "t0 = time.time()\n",
    "res = minimize(V_2, x0, method='SLSQP', constraints=[ineq_cons1, ineq_cons2])\n",
    "t = time.time() - t0\n",
    "\n",
    "\n",
    "xtrue = res.x\n",
    "i = res.nit\n",
    "mins = res.fun\n",
    "\n",
    "rms = mean_squared_error(xtrue, xtrue)\n",
    "\n",
    "print(f'{xtrue[0].item() :.5f} \\t {xtrue[1].item() :.5f} \\t {mins:.5f} \\t {Decimal(rms)} \\t {t} \\t {i}')"
   ]
  },
  {
   "cell_type": "code",
   "execution_count": 34,
   "metadata": {},
   "outputs": [
    {
     "name": "stdout",
     "output_type": "stream",
     "text": [
      "0.66699 \t 0.57757 \t -0.38490 \t 7.64E-8 \t 5.801 \t 5\n"
     ]
    }
   ],
   "source": [
    "x0 = np.array([[1.],[-1.]])\n",
    "\n",
    "t0 = time.time()\n",
    "x, minimum, x_hist1, V_hist=  penalty_fn(x0,\n",
    "                        V_2,\n",
    "                        gradient_function=None,\n",
    "                        ecp=None,\n",
    "                        icp=[h1_2,h2_2],\n",
    "                        step_size = 'armijo',\n",
    "                        threshold = 1e-3, \n",
    "                        log = False, \n",
    "                        h = 1e-5, \n",
    "                        max_iter = 1e5, \n",
    "                        fd_method = 'central', \n",
    "                        track_history = True)\n",
    "t = time.time() - t0\n",
    "rms = mean_squared_error(x, xtrue)\n",
    "\n",
    "\n",
    "print(f'{x[0].item() :.5f} \\t {x[1].item() :.5f} \\t {mins:.5f} \\t {Decimal(rms):.2E} \\t {t:.3f} \\t {len(x_hist1)}')\n",
    "\n"
   ]
  },
  {
   "cell_type": "code",
   "execution_count": 35,
   "metadata": {},
   "outputs": [
    {
     "name": "stdout",
     "output_type": "stream",
     "text": [
      "0.63866 \t 0.56506 \t -0.38490 \t 4.68E-4 \t 15.951 \t 5\n"
     ]
    }
   ],
   "source": [
    "x0 = np.array([[0.6],[0.6]])\n",
    "\n",
    "\n",
    "t0 = time.time()\n",
    "x, minimum =  barrier_fn(x0,\n",
    "                        V_2,\n",
    "                        gradient_function=None,\n",
    "                        ecp=None,\n",
    "                        icp=[h1_2,h2_2],\n",
    "                        step_size = 'armijo',\n",
    "                        threshold = 1e-4, \n",
    "                        log = False, \n",
    "                        h = 1e-5, \n",
    "                        max_iter = 1e5, \n",
    "                        fd_method = 'central', \n",
    "                        track_history = False)\n",
    "\n",
    "\n",
    "\n",
    "t = time.time() - t0\n",
    "rms = mean_squared_error(x, xtrue)\n",
    "\n",
    "\n",
    "print(f'{x[0].item() :.5f} \\t {x[1].item() :.5f} \\t {mins:.5f} \\t {Decimal(rms):.2E} \\t {t:.3f} \\t {len(x_hist1)}')\n",
    "\n"
   ]
  },
  {
   "cell_type": "code",
   "execution_count": 36,
   "metadata": {},
   "outputs": [
    {
     "name": "stdout",
     "output_type": "stream",
     "text": [
      "Barrier function:\n",
      " x=[-0.0197707   0.01976748], V(x)=0.00039\n",
      "\n"
     ]
    }
   ],
   "source": [
    "# test barrier function\n",
    "x0 = np.array([[-0.3],[0.2]])\n",
    "\n",
    "x, minimum =  barrier_fn(x0,\n",
    "                            V_2,\n",
    "                            gradient_function=None,\n",
    "                            mode='inv',\n",
    "                            ecp=None,\n",
    "                            icp=[h1_2,h2_2],\n",
    "                            step_size = 'armijo',\n",
    "                            threshold = 1e-7,\n",
    "                            conv_threshold = 1e-6, \n",
    "                            log = False, \n",
    "                            h = 1e-5, \n",
    "                            max_iter = 1e5, \n",
    "                            fd_method = 'central', \n",
    "                            track_history = False)\n",
    "print(f'Barrier function:\\n x={x.flatten()}, V(x)={minimum:.5f}\\n')"
   ]
  },
  {
   "cell_type": "code",
   "execution_count": 23,
   "metadata": {},
   "outputs": [
    {
     "name": "stdout",
     "output_type": "stream",
     "text": [
      "1.00000 \t 1.73205 \t -0.73205 \t 0 \t 0.016355037689208984 \t 6\n"
     ]
    }
   ],
   "source": [
    "##### FUNCTION 3\n",
    "x0 = np.array([[0.5],[0.5]])\n",
    "ineq_cons1 = {'type': 'ineq',\n",
    "             'fun' : h1_3}\n",
    "eq_cons2 = {'type': 'eq',\n",
    "             'fun' : h2_3,}\n",
    "\n",
    "t0 = time.time()\n",
    "res = minimize(V_3, x0, method='SLSQP', constraints=[ineq_cons1, eq_cons2])\n",
    "t = time.time() - t0\n",
    "\n",
    "\n",
    "xtrue = res.x\n",
    "i = res.nit\n",
    "mins = res.fun\n",
    "\n",
    "rms = mean_squared_error(xtrue, xtrue)\n",
    "\n",
    "print(f'{xtrue[0].item() :.5f} \\t {xtrue[1].item() :.5f} \\t {mins:.5f} \\t {Decimal(rms)} \\t {t} \\t {i}')"
   ]
  },
  {
   "cell_type": "code",
   "execution_count": 26,
   "metadata": {},
   "outputs": [
    {
     "name": "stdout",
     "output_type": "stream",
     "text": [
      "4.00000 \t 2.00000 \t -0.73205 \t 4.54E+0 \t 0.001 \t 1\n"
     ]
    }
   ],
   "source": [
    "x0 = np.array([[4.],[2.]])\n",
    "\n",
    "t0 = time.time()\n",
    "x, minimum, x_hist1, V_hist=  penalty_fn(x0,\n",
    "                                        V_3,\n",
    "                                        gradient_function=None,\n",
    "                                        ecp=None,\n",
    "                                        icp=[h1_3,h2_3],\n",
    "                                        step_size = 'armijo',\n",
    "                                        threshold = 1e-3, \n",
    "                                        log = False, \n",
    "                                        h = 1e-5, \n",
    "                                        max_iter = 1e5, \n",
    "                                        fd_method = 'central', \n",
    "                                        track_history = True)\n",
    "t = time.time() - t0\n",
    "rms = mean_squared_error(x, xtrue)\n",
    "\n",
    "\n",
    "print(f'{x[0].item() :.5f} \\t {x[1].item() :.5f} \\t {mins:.5f} \\t {Decimal(rms):.2E} \\t {t:.3f} \\t {len(x_hist1)}')\n",
    "\n"
   ]
  },
  {
   "cell_type": "code",
   "execution_count": 28,
   "metadata": {},
   "outputs": [
    {
     "ename": "ValueError",
     "evalue": "not enough values to unpack (expected 4, got 2)",
     "output_type": "error",
     "traceback": [
      "\u001b[0;31m---------------------------------------------------------------------------\u001b[0m",
      "\u001b[0;31mValueError\u001b[0m                                Traceback (most recent call last)",
      "\u001b[1;32m/Users/alixdanglejan-chatillon/Code/ECSE507Final/OptimizationFinal/main.ipynb Cell 12'\u001b[0m in \u001b[0;36m<cell line: 5>\u001b[0;34m()\u001b[0m\n\u001b[1;32m      <a href='vscode-notebook-cell:/Users/alixdanglejan-chatillon/Code/ECSE507Final/OptimizationFinal/main.ipynb#ch0000012?line=2'>3</a>\u001b[0m t0 \u001b[39m=\u001b[39m time\u001b[39m.\u001b[39mtime()\n\u001b[1;32m      <a href='vscode-notebook-cell:/Users/alixdanglejan-chatillon/Code/ECSE507Final/OptimizationFinal/main.ipynb#ch0000012?line=3'>4</a>\u001b[0m     \u001b[39m# test barrier function\u001b[39;00m\n\u001b[0;32m----> <a href='vscode-notebook-cell:/Users/alixdanglejan-chatillon/Code/ECSE507Final/OptimizationFinal/main.ipynb#ch0000012?line=4'>5</a>\u001b[0m x, minimum, x_hist1, _ \u001b[39m=\u001b[39m  barrier_fn(x0,\n\u001b[1;32m      <a href='vscode-notebook-cell:/Users/alixdanglejan-chatillon/Code/ECSE507Final/OptimizationFinal/main.ipynb#ch0000012?line=5'>6</a>\u001b[0m                                     V_3,\n\u001b[1;32m      <a href='vscode-notebook-cell:/Users/alixdanglejan-chatillon/Code/ECSE507Final/OptimizationFinal/main.ipynb#ch0000012?line=6'>7</a>\u001b[0m                                     gradient_function\u001b[39m=\u001b[39m\u001b[39mNone\u001b[39;00m,\n\u001b[1;32m      <a href='vscode-notebook-cell:/Users/alixdanglejan-chatillon/Code/ECSE507Final/OptimizationFinal/main.ipynb#ch0000012?line=7'>8</a>\u001b[0m                                     ecp\u001b[39m=\u001b[39mh2_3,\n\u001b[1;32m      <a href='vscode-notebook-cell:/Users/alixdanglejan-chatillon/Code/ECSE507Final/OptimizationFinal/main.ipynb#ch0000012?line=8'>9</a>\u001b[0m                                     icp\u001b[39m=\u001b[39m[h1_3],\n\u001b[1;32m     <a href='vscode-notebook-cell:/Users/alixdanglejan-chatillon/Code/ECSE507Final/OptimizationFinal/main.ipynb#ch0000012?line=9'>10</a>\u001b[0m                                     step_size \u001b[39m=\u001b[39m \u001b[39m'\u001b[39m\u001b[39marmijo\u001b[39m\u001b[39m'\u001b[39m,\n\u001b[1;32m     <a href='vscode-notebook-cell:/Users/alixdanglejan-chatillon/Code/ECSE507Final/OptimizationFinal/main.ipynb#ch0000012?line=10'>11</a>\u001b[0m                                     threshold \u001b[39m=\u001b[39m \u001b[39m1e-3\u001b[39m,\n\u001b[1;32m     <a href='vscode-notebook-cell:/Users/alixdanglejan-chatillon/Code/ECSE507Final/OptimizationFinal/main.ipynb#ch0000012?line=11'>12</a>\u001b[0m                                     conv_threshold\u001b[39m=\u001b[39m\u001b[39m1e-6\u001b[39m,\n\u001b[1;32m     <a href='vscode-notebook-cell:/Users/alixdanglejan-chatillon/Code/ECSE507Final/OptimizationFinal/main.ipynb#ch0000012?line=12'>13</a>\u001b[0m                                     log \u001b[39m=\u001b[39m \u001b[39mFalse\u001b[39;00m, \n\u001b[1;32m     <a href='vscode-notebook-cell:/Users/alixdanglejan-chatillon/Code/ECSE507Final/OptimizationFinal/main.ipynb#ch0000012?line=13'>14</a>\u001b[0m                                     h \u001b[39m=\u001b[39m \u001b[39m1e-7\u001b[39m, \n\u001b[1;32m     <a href='vscode-notebook-cell:/Users/alixdanglejan-chatillon/Code/ECSE507Final/OptimizationFinal/main.ipynb#ch0000012?line=14'>15</a>\u001b[0m                                     max_iter \u001b[39m=\u001b[39m \u001b[39m1e5\u001b[39m, \n\u001b[1;32m     <a href='vscode-notebook-cell:/Users/alixdanglejan-chatillon/Code/ECSE507Final/OptimizationFinal/main.ipynb#ch0000012?line=15'>16</a>\u001b[0m                                     fd_method \u001b[39m=\u001b[39m \u001b[39m'\u001b[39m\u001b[39mforward\u001b[39m\u001b[39m'\u001b[39m, \n\u001b[1;32m     <a href='vscode-notebook-cell:/Users/alixdanglejan-chatillon/Code/ECSE507Final/OptimizationFinal/main.ipynb#ch0000012?line=16'>17</a>\u001b[0m                                     track_history \u001b[39m=\u001b[39m \u001b[39mFalse\u001b[39;00m)\n\u001b[1;32m     <a href='vscode-notebook-cell:/Users/alixdanglejan-chatillon/Code/ECSE507Final/OptimizationFinal/main.ipynb#ch0000012?line=17'>18</a>\u001b[0m t \u001b[39m=\u001b[39m time\u001b[39m.\u001b[39mtime() \u001b[39m-\u001b[39m t0\n\u001b[1;32m     <a href='vscode-notebook-cell:/Users/alixdanglejan-chatillon/Code/ECSE507Final/OptimizationFinal/main.ipynb#ch0000012?line=18'>19</a>\u001b[0m rms \u001b[39m=\u001b[39m mean_squared_error(x, xtrue)\n",
      "\u001b[0;31mValueError\u001b[0m: not enough values to unpack (expected 4, got 2)"
     ]
    }
   ],
   "source": [
    "x0 = np.array([[4.],[2.]])\n",
    "\n",
    "t0 = time.time()\n",
    "    # test barrier function\n",
    "x, minimum, x_hist1, _ =  barrier_fn(x0,\n",
    "                                    V_3,\n",
    "                                    gradient_function=None,\n",
    "                                    ecp=h2_3,\n",
    "                                    icp=[h1_3],\n",
    "                                    step_size = 'armijo',\n",
    "                                    threshold = 1e-3,\n",
    "                                    conv_threshold=1e-6,\n",
    "                                    log = False, \n",
    "                                    h = 1e-7, \n",
    "                                    max_iter = 1e5, \n",
    "                                    fd_method = 'forward', \n",
    "                                    track_history = False)\n",
    "t = time.time() - t0\n",
    "rms = mean_squared_error(x, xtrue)\n",
    "\n",
    "\n",
    "print(f'{x[0].item() :.5f} \\t {x[1].item() :.5f} \\t {mins:.5f} \\t {Decimal(rms):.2E} \\t {t:.3f} \\t {len(x_hist1)}')\n",
    "\n"
   ]
  },
  {
   "cell_type": "code",
   "execution_count": null,
   "metadata": {},
   "outputs": [],
   "source": []
  }
 ],
 "metadata": {
  "interpreter": {
   "hash": "aee8b7b246df8f9039afb4144a1f6fd8d2ca17a180786b69acc140d282b71a49"
  },
  "kernelspec": {
   "display_name": "Python 3.9.1 64-bit",
   "language": "python",
   "name": "python3"
  },
  "language_info": {
   "codemirror_mode": {
    "name": "ipython",
    "version": 3
   },
   "file_extension": ".py",
   "mimetype": "text/x-python",
   "name": "python",
   "nbconvert_exporter": "python",
   "pygments_lexer": "ipython3",
   "version": "3.9.1"
  },
  "orig_nbformat": 4
 },
 "nbformat": 4,
 "nbformat_minor": 2
}
