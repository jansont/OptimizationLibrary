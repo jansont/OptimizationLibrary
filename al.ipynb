{
 "cells": [
  {
   "cell_type": "code",
   "execution_count": 11,
   "metadata": {},
   "outputs": [],
   "source": [
    "import numpy as np\n",
    "from algorithms import steepest_descent, conjugate_gradient, secant, Finite_Difference, armijo\n",
    "from cost_functions import V_a, gradV_a, V_b, gradV_b, V_1, h1_1, h1_2, V_2, h2_1, h2_2, V_3, h1_3, h2_3\n",
    "from numpy.linalg import norm, eig\n",
    "from scipy.optimize import minimize\n",
    "import time\n",
    "from sklearn.metrics import mean_squared_error\n",
    "from decimal import Decimal\n"
   ]
  },
  {
   "cell_type": "code",
   "execution_count": 5,
   "metadata": {},
   "outputs": [],
   "source": [
    "x0 = np.array([[0.1],[0.7]])\n",
    "\n",
    "ineq_cons = {'type': 'ineq',\n",
    "             'fun' : h1_1}\n",
    "eq_cons = {'type': 'eq',\n",
    "           'fun' : h2_1,}\n",
    "\n",
    "t0 = time.time()\n",
    "res = minimize(V_1, x0, method='SLSQP', constraints=[eq_cons, ineq_cons])\n",
    "t = time.time() - t0\n",
    "\n",
    "\n",
    "xtrue = res.x\n",
    "i = res.nit\n",
    "mins = res.fun\n",
    "\n",
    "rms = mean_squared_error(xtrue, xtrue)\n",
    "\n"
   ]
  },
  {
   "cell_type": "code",
   "execution_count": 6,
   "metadata": {},
   "outputs": [],
   "source": [
    "def augmented_lagrangian(x0, \n",
    "                         cost_function, \n",
    "                         equality_constraints = [], \n",
    "                         inequality_constraints = [],\n",
    "                         threshold = 1e-3, \n",
    "                         log = False,\n",
    "                         track_history = False,):\n",
    "    '''\n",
    "    Args: \n",
    "        x0 :: np.array\n",
    "            Initial point of minization. Shape (n,)\n",
    "        cost_function :: Python function\n",
    "            Cost function to minimize. Rn -> R. \n",
    "        equality_constraints :: list of functions\n",
    "            List of constraint equalities. \n",
    "        inequality constraints :: list of functions\n",
    "            List of constraint inequalities. \n",
    "        threshold :: float\n",
    "            Threshold at which to stop minimization. Values \n",
    "        log :: bool\n",
    "            True to log optimization progress. Default: False\n",
    "            Parameter for finite difference estimation. \n",
    "        track_history :: bool\n",
    "            True to track points visited and corresponding cost. \n",
    "    Returns: \n",
    "        x :: np.array\n",
    "            Point at which minimization is reached. Shape (n,)\n",
    "        minimum :: float\n",
    "            Value of cost function at optimizer. \n",
    "        x_history :: list\n",
    "            List of points visisted. (if track_history = True)\n",
    "        V_history :: list\n",
    "            List of costs visisted. (if track_history = True)\n",
    "    '''\n",
    "    class P:\n",
    "        def __init__(self, lambd, sigma):\n",
    "            self.lambd = lambd\n",
    "            self.sigma = sigma\n",
    "\n",
    "        def phi(self, x):\n",
    "            cost = cost_function(x)\n",
    "            lambda_eq = lambd[:num_ec , :]\n",
    "            lambda_ineq = lambd[num_ec:num_c , :]\n",
    "            sigma_eq = sigma[:num_ec , :]\n",
    "            sigma_ineq = sigma[num_ec:num_c , :]\n",
    "\n",
    "            ecs = np.array([ec(x) for ec in equality_constraints])\n",
    "            cost = cost - sum(lambda_eq * ecs) + 0.5 * sum(sigma_eq * ecs**2)\n",
    "            \n",
    "            for i, ineq in enumerate(inequality_constraints):\n",
    "                ic = ineq(x)\n",
    "                if ic <= lambda_ineq[i] / sigma_ineq[i]:\n",
    "                    p_i = np.array([-lambda_ineq[i] * ic + 0.5 * sigma_ineq[i] * ic**2])\n",
    "                else: \n",
    "                    p_i = np.array([-0.5 * lambda_ineq[i]**2 / sigma_ineq[i] ])\n",
    "                cost = cost + p_i\n",
    "\n",
    "            return cost\n",
    "\n",
    "    x_history, V_history = [],[]\n",
    "    num_ec = len(equality_constraints)\n",
    "    num_ic = len(inequality_constraints)\n",
    "    num_c = num_ec + num_ic\n",
    "\n",
    "    lambd = np.zeros((num_c,1))\n",
    "    sigma = np.ones((num_c,1))\n",
    "\n",
    "    c = 1e12 * sigma\n",
    "    x = x0\n",
    "    minimum = cost_function(x)\n",
    "    x_history.append(x), V_history.append(minimum)\n",
    "    j = 0\n",
    "    while norm(c) > threshold and all(sigma < 1e12): \n",
    "        p = P(lambd, sigma)\n",
    "        x,_ = steepest_descent(x,\n",
    "                               p.phi,\n",
    "                               None,\n",
    "                               step_size = 'armijo',\n",
    "                               threshold = 1e-6, \n",
    "                               max_iter = 1e4, \n",
    "                               fd_method = 'forward')\n",
    "\n",
    "        previous_cost = c\n",
    "        inequality_cost = [const(x) for const in inequality_constraints]\n",
    "        equality_cost = [const(x) for const in equality_constraints]\n",
    "        c = equality_cost + inequality_cost \n",
    "\n",
    "        if norm(c, np.inf) > 0.25 * norm(previous_cost, np.inf):\n",
    "            for i in range(num_c):\n",
    "                if np.abs(c[i]) > 0.25 * norm(previous_cost, np.inf):\n",
    "                    sigma[i] *= 10\n",
    "            continue\n",
    "        lambd = lambd - sigma * c\n",
    "\n",
    "        minimum = cost_function(x).item()\n",
    "        x_history.append(x), V_history.append(minimum)\n",
    "        j += 1\n",
    "        if log:\n",
    "            print(f'x = {x}, V(x) = {minimum:.5f}')\n",
    "    if track_history:\n",
    "        return x, cost_function(x).item(), x_history, V_history\n",
    "    else:\n",
    "        return x, cost_function(x).item()"
   ]
  },
  {
   "cell_type": "code",
   "execution_count": 7,
   "metadata": {},
   "outputs": [
    {
     "name": "stdout",
     "output_type": "stream",
     "text": [
      "0.71194 \t 0.71194 \t 1.57612 \t 2.33E-5 \t 0.115 \t 2\n"
     ]
    }
   ],
   "source": [
    "x0 = np.array([[0.1],[0.7]])\n",
    "\n",
    "\n",
    "cost_function = V_1\n",
    "inequality_constraints = [h1_1]\n",
    "equality_constraints = [h2_1]\n",
    "gradient_function = None\n",
    "\n",
    "t0 = time.time()\n",
    "x, minimum, x_hist, v_hist = augmented_lagrangian(x0,\n",
    "                                            cost_function, \n",
    "                                            equality_constraints, \n",
    "                                            inequality_constraints,\n",
    "                                            log = False,\n",
    "                                            track_history = True)\n",
    "t = time.time() - t0\n",
    "rms = mean_squared_error(x, xtrue)\n",
    "\n",
    "\n",
    "print(f'{x[0].item() :.5f} \\t {x[1].item() :.5f} \\t {minimum:.5f} \\t {Decimal(rms):.2E} \\t {t:.3f} \\t {len(x_hist)}')"
   ]
  },
  {
   "cell_type": "code",
   "execution_count": 17,
   "metadata": {},
   "outputs": [
    {
     "name": "stdout",
     "output_type": "stream",
     "text": [
      "0.66667 \t 0.57735 \t -0.38490 \t 0 \t 0.014425992965698242 \t 5\n"
     ]
    }
   ],
   "source": [
    "##### FUNCTION 2\n",
    "x0 = np.array([[0.1],[0.7]])\n",
    "ineq_cons1 = {'type': 'ineq',\n",
    "             'fun' : h1_2}\n",
    "ineq_cons2 = {'type': 'ineq',\n",
    "             'fun' : h2_2,}\n",
    "\n",
    "t0 = time.time()\n",
    "res = minimize(V_2, x0, method='SLSQP', constraints=[ineq_cons1, ineq_cons2])\n",
    "t = time.time() - t0\n",
    "\n",
    "\n",
    "xtrue = res.x\n",
    "i = res.nit\n",
    "mins = res.fun\n",
    "\n",
    "rms = mean_squared_error(xtrue, xtrue)\n",
    "\n",
    "print(f'{xtrue[0].item() :.5f} \\t {xtrue[1].item() :.5f} \\t {mins:.5f} \\t {Decimal(rms)} \\t {t} \\t {i}')"
   ]
  },
  {
   "cell_type": "code",
   "execution_count": 23,
   "metadata": {},
   "outputs": [
    {
     "name": "stdout",
     "output_type": "stream",
     "text": [
      "0.65360 \t 0.57167 \t -0.37364 \t 1.01E-4 \t 0.140 \t 2\n"
     ]
    }
   ],
   "source": [
    "x0 = np.array([[0.6],[0.6]])\n",
    "\n",
    "\n",
    "\n",
    "cost_function = V_2\n",
    "inequality_constraints = [h1_2, h2_2]\n",
    "equality_constraints = []\n",
    "gradient_function = None\n",
    "\n",
    "t0 = time.time()\n",
    "x, minimum, x_hist, v_hist = augmented_lagrangian(x0,\n",
    "                                            cost_function, \n",
    "                                            equality_constraints, \n",
    "                                            inequality_constraints,\n",
    "                                            threshold = 1e-6,\n",
    "                                            log = False,\n",
    "                                            track_history = True)\n",
    "t = time.time() - t0\n",
    "rms = mean_squared_error(x, xtrue)\n",
    "\n",
    "\n",
    "print(f'{x[0].item() :.5f} \\t {x[1].item() :.5f} \\t {minimum:.5f} \\t {Decimal(rms):.2E} \\t {t:.3f} \\t {len(x_hist)}')"
   ]
  },
  {
   "cell_type": "code",
   "execution_count": 12,
   "metadata": {},
   "outputs": [
    {
     "name": "stdout",
     "output_type": "stream",
     "text": [
      "1.00000 \t 1.73205 \t -0.73205 \t 0 \t 0.025768041610717773 \t 6\n"
     ]
    }
   ],
   "source": [
    "##### FUNCTION 3\n",
    "x0 = np.array([[2],[4]])\n",
    "ineq_cons1 = {'type': 'ineq',\n",
    "             'fun' : h1_3}\n",
    "eq_cons2 = {'type': 'eq',\n",
    "             'fun' : h2_3,}\n",
    "\n",
    "t0 = time.time()\n",
    "res = minimize(V_3, x0, method='SLSQP', constraints=[ineq_cons1, eq_cons2])\n",
    "t = time.time() - t0\n",
    "\n",
    "\n",
    "xtrue = res.x\n",
    "i = res.nit\n",
    "mins = res.fun\n",
    "\n",
    "rms = mean_squared_error(xtrue, xtrue)\n",
    "\n",
    "print(f'{xtrue[0].item() :.5f} \\t {xtrue[1].item() :.5f} \\t {mins:.5f} \\t {Decimal(rms)} \\t {t} \\t {i}')"
   ]
  },
  {
   "cell_type": "code",
   "execution_count": 16,
   "metadata": {},
   "outputs": [
    {
     "name": "stdout",
     "output_type": "stream",
     "text": [
      "0.99999 \t 1.73206 \t -0.73209 \t 9.55E-11 \t 0.402 \t 6\n"
     ]
    }
   ],
   "source": [
    "x0 = np.array([[0.1],[0.7]])\n",
    "\n",
    "\n",
    "cost_function = V_3\n",
    "inequality_constraints = [h1_3]\n",
    "equality_constraints = [h2_3]\n",
    "gradient_function = None\n",
    "\n",
    "t0 = time.time()\n",
    "x, minimum, x_hist, v_hist = augmented_lagrangian(x0,\n",
    "                                            cost_function, \n",
    "                                            equality_constraints, \n",
    "                                            inequality_constraints,\n",
    "                                            threshold = 1e-4,\n",
    "                                            log = False,\n",
    "                                            track_history = True)\n",
    "t = time.time() - t0\n",
    "rms = mean_squared_error(x, xtrue)\n",
    "\n",
    "\n",
    "print(f'{x[0].item() :.5f} \\t {x[1].item() :.5f} \\t {minimum:.5f} \\t {Decimal(rms):.2E} \\t {t:.3f} \\t {len(x_hist)}')"
   ]
  },
  {
   "cell_type": "code",
   "execution_count": null,
   "metadata": {},
   "outputs": [],
   "source": []
  }
 ],
 "metadata": {
  "interpreter": {
   "hash": "5e730323216fec8a00495a18d5e26a9184315a136cb5e6ee6f99d5a78808c1dd"
  },
  "kernelspec": {
   "display_name": "Python 3.9.1 ('env': venv)",
   "language": "python",
   "name": "python3"
  },
  "language_info": {
   "codemirror_mode": {
    "name": "ipython",
    "version": 3
   },
   "file_extension": ".py",
   "mimetype": "text/x-python",
   "name": "python",
   "nbconvert_exporter": "python",
   "pygments_lexer": "ipython3",
   "version": "3.9.1"
  },
  "orig_nbformat": 4
 },
 "nbformat": 4,
 "nbformat_minor": 2
}
